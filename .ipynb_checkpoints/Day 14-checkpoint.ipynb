{
 "cells": [
  {
   "cell_type": "code",
   "execution_count": 1,
   "id": "3dd70a81-fb72-442c-9716-2ed37d4a6729",
   "metadata": {},
   "outputs": [],
   "source": [
    "import pandas as pd"
   ]
  },
  {
   "cell_type": "code",
   "execution_count": 2,
   "id": "ae2ef9ce-6222-4202-85bf-eb4caf761b65",
   "metadata": {},
   "outputs": [],
   "source": [
    "import warning"
   ]
  },
  {
   "cell_type": "code",
   "execution_count": 4,
   "id": "38b7ed02-b6e1-4f95-b773-652832062d40",
   "metadata": {},
   "outputs": [],
   "source": [
    "warnings.filterwarnings('ignore')"
   ]
  },
  {
   "cell_type": "code",
   "execution_count": 9,
   "id": "11201f76-9324-4cf9-83a4-2dfe317d0c41",
   "metadata": {},
   "outputs": [
    {
     "ename": "IndentationError",
     "evalue": "expected an indented block (2585882617.py, line 1)",
     "output_type": "error",
     "traceback": [
      "\u001b[1;36m  Input \u001b[1;32mIn [9]\u001b[1;36m\u001b[0m\n\u001b[1;33m    def movie_recommend(movie_selected = 'Star Wars (1977)'):\u001b[0m\n\u001b[1;37m                                                             ^\u001b[0m\n\u001b[1;31mIndentationError\u001b[0m\u001b[1;31m:\u001b[0m expected an indented block\n"
     ]
    }
   ],
   "source": [
    "def movie_recommend(movie_selected = 'Star Wars (1977)'):"
   ]
  },
  {
   "cell_type": "code",
   "execution_count": 10,
   "id": "86c78fe4-819a-442a-b97b-493f9e05bcf8",
   "metadata": {},
   "outputs": [],
   "source": [
    "# read files"
   ]
  },
  {
   "cell_type": "code",
   "execution_count": 11,
   "id": "636b4435-a7b4-46fc-9d66-5819d4c93ab4",
   "metadata": {},
   "outputs": [],
   "source": [
    "cols = ['user_id', 'movie_id','ratings', 'ts']"
   ]
  },
  {
   "cell_type": "code",
   "execution_count": null,
   "id": "3ee42dd8-0c7b-4d27-8c45-1a09a51674c7",
   "metadata": {},
   "outputs": [],
   "source": []
  }
 ],
 "metadata": {
  "kernelspec": {
   "display_name": "Python 3 (ipykernel)",
   "language": "python",
   "name": "python3"
  },
  "language_info": {
   "codemirror_mode": {
    "name": "ipython",
    "version": 3
   },
   "file_extension": ".py",
   "mimetype": "text/x-python",
   "name": "python",
   "nbconvert_exporter": "python",
   "pygments_lexer": "ipython3",
   "version": "3.9.12"
  }
 },
 "nbformat": 4,
 "nbformat_minor": 5
}
