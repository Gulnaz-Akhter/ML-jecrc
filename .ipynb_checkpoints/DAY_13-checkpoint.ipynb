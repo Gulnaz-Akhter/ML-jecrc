{
 "cells": [
  {
   "cell_type": "code",
   "execution_count": 9,
   "id": "65df4258-86b1-495a-8bb4-d39c8fe68e68",
   "metadata": {},
   "outputs": [],
   "source": [
    "import pandas as pd"
   ]
  },
  {
   "cell_type": "markdown",
   "id": "be00f85b-e3c2-49eb-bef2-046350a37ef5",
   "metadata": {},
   "source": [
    "Data Analysis\n",
    "1. description\n",
    "2. diagnosis\n",
    "3. prediction \n",
    "4. action\n"
   ]
  },
  {
   "cell_type": "code",
   "execution_count": 17,
   "id": "279d5657-c5a3-472e-b4b3-cf54550604b3",
   "metadata": {},
   "outputs": [],
   "source": [
    "# the column names\n",
    "cols = ['user_id','movie_id','rating','ts']"
   ]
  },
  {
   "cell_type": "code",
   "execution_count": 18,
   "id": "e129435e-c5a9-4aa6-b988-85973f9462a3",
   "metadata": {},
   "outputs": [],
   "source": [
    "# read the file\n",
    "df=pd.read_csv('u.data', sep='\\t',names=cols)"
   ]
  },
  {
   "cell_type": "code",
   "execution_count": 55,
   "id": "96d68ff4-dd06-45ed-8a80-51a28aed6d54",
   "metadata": {},
   "outputs": [],
   "source": [
    "a=[4,8,7,2,9]"
   ]
  },
  {
   "cell_type": "code",
   "execution_count": 61,
   "id": "c212dd64-d103-4525-a7b3-9dba5989535c",
   "metadata": {},
   "outputs": [
    {
     "data": {
      "text/plain": [
       "[8, 16, 14, 4, 18]"
      ]
     },
     "execution_count": 61,
     "metadata": {},
     "output_type": "execute_result"
    }
   ],
   "source": [
    "# b = [8,16,4,14,18]\n",
    "\n",
    "b = []\n",
    "for i in a:\n",
    "    b.append(i*2)\n",
    "b"
   ]
  },
  {
   "cell_type": "code",
   "execution_count": 62,
   "id": "83cfc65f-5bca-4388-9e8e-e77f3acb1f67",
   "metadata": {},
   "outputs": [],
   "source": [
    "item_cols = ['movie_id','title'] + [str(i) for i in range(22)]"
   ]
  },
  {
   "cell_type": "code",
   "execution_count": null,
   "id": "e8d1b6c5-2f38-4747-add3-e0b9ecb73977",
   "metadata": {},
   "outputs": [],
   "source": []
  },
  {
   "cell_type": "code",
   "execution_count": 67,
   "id": "6b3216c9-daca-4571-8ca8-fab8435f57c1",
   "metadata": {},
   "outputs": [],
   "source": [
    "# read other file\n",
    "df1= pd.read_csv('u.item', sep='|', names = item_cols,\n",
    "                 encoding = \"ISO-8859-1\") [['movie_id','title']]"
   ]
  },
  {
   "cell_type": "code",
   "execution_count": 68,
   "id": "73f9d6d9-1340-4193-9132-8d98f376ed81",
   "metadata": {},
   "outputs": [
    {
     "data": {
      "text/plain": [
       "(1682, 2)"
      ]
     },
     "execution_count": 68,
     "metadata": {},
     "output_type": "execute_result"
    }
   ],
   "source": [
    "df1.shape"
   ]
  },
  {
   "cell_type": "markdown",
   "id": "b0101bd4-5614-4fa5-a1bb-42b33249e165",
   "metadata": {},
   "source": [
    "\n",
    "\n",
    "\n",
    "\n",
    "\n",
    "\n",
    "exploratory data analysis "
   ]
  },
  {
   "cell_type": "code",
   "execution_count": null,
   "id": "425a5b77-42a9-41c5-bb4c-31af10899391",
   "metadata": {},
   "outputs": [],
   "source": []
  },
  {
   "cell_type": "code",
   "execution_count": 71,
   "id": "3a0ff3d5-bed3-4746-9ff1-b7d0b57cd24e",
   "metadata": {},
   "outputs": [
    {
     "data": {
      "text/html": [
       "<div>\n",
       "<style scoped>\n",
       "    .dataframe tbody tr th:only-of-type {\n",
       "        vertical-align: middle;\n",
       "    }\n",
       "\n",
       "    .dataframe tbody tr th {\n",
       "        vertical-align: top;\n",
       "    }\n",
       "\n",
       "    .dataframe thead th {\n",
       "        text-align: right;\n",
       "    }\n",
       "</style>\n",
       "<table border=\"1\" class=\"dataframe\">\n",
       "  <thead>\n",
       "    <tr style=\"text-align: right;\">\n",
       "      <th></th>\n",
       "      <th>user_id</th>\n",
       "      <th>movie_id</th>\n",
       "      <th>rating</th>\n",
       "      <th>ts</th>\n",
       "    </tr>\n",
       "  </thead>\n",
       "  <tbody>\n",
       "    <tr>\n",
       "      <th>6370</th>\n",
       "      <td>62</td>\n",
       "      <td>1136</td>\n",
       "      <td>3</td>\n",
       "      <td>879375977</td>\n",
       "    </tr>\n",
       "    <tr>\n",
       "      <th>21945</th>\n",
       "      <td>292</td>\n",
       "      <td>7</td>\n",
       "      <td>3</td>\n",
       "      <td>881104068</td>\n",
       "    </tr>\n",
       "    <tr>\n",
       "      <th>78409</th>\n",
       "      <td>481</td>\n",
       "      <td>181</td>\n",
       "      <td>5</td>\n",
       "      <td>885827974</td>\n",
       "    </tr>\n",
       "    <tr>\n",
       "      <th>50692</th>\n",
       "      <td>80</td>\n",
       "      <td>237</td>\n",
       "      <td>4</td>\n",
       "      <td>887401732</td>\n",
       "    </tr>\n",
       "    <tr>\n",
       "      <th>23190</th>\n",
       "      <td>76</td>\n",
       "      <td>324</td>\n",
       "      <td>4</td>\n",
       "      <td>875027206</td>\n",
       "    </tr>\n",
       "  </tbody>\n",
       "</table>\n",
       "</div>"
      ],
      "text/plain": [
       "       user_id  movie_id  rating         ts\n",
       "6370        62      1136       3  879375977\n",
       "21945      292         7       3  881104068\n",
       "78409      481       181       5  885827974\n",
       "50692       80       237       4  887401732\n",
       "23190       76       324       4  875027206"
      ]
     },
     "execution_count": 71,
     "metadata": {},
     "output_type": "execute_result"
    }
   ],
   "source": [
    "df.sample(5)"
   ]
  },
  {
   "cell_type": "code",
   "execution_count": 69,
   "id": "90a52fc7-9dc8-44b8-8df6-e864662fa9bf",
   "metadata": {},
   "outputs": [
    {
     "data": {
      "text/html": [
       "<div>\n",
       "<style scoped>\n",
       "    .dataframe tbody tr th:only-of-type {\n",
       "        vertical-align: middle;\n",
       "    }\n",
       "\n",
       "    .dataframe tbody tr th {\n",
       "        vertical-align: top;\n",
       "    }\n",
       "\n",
       "    .dataframe thead th {\n",
       "        text-align: right;\n",
       "    }\n",
       "</style>\n",
       "<table border=\"1\" class=\"dataframe\">\n",
       "  <thead>\n",
       "    <tr style=\"text-align: right;\">\n",
       "      <th></th>\n",
       "      <th>movie_id</th>\n",
       "      <th>title</th>\n",
       "    </tr>\n",
       "  </thead>\n",
       "  <tbody>\n",
       "    <tr>\n",
       "      <th>763</th>\n",
       "      <td>764</td>\n",
       "      <td>If Lucy Fell (1996)</td>\n",
       "    </tr>\n",
       "    <tr>\n",
       "      <th>398</th>\n",
       "      <td>399</td>\n",
       "      <td>Three Musketeers, The (1993)</td>\n",
       "    </tr>\n",
       "    <tr>\n",
       "      <th>1662</th>\n",
       "      <td>1663</td>\n",
       "      <td>Nothing Personal (1995)</td>\n",
       "    </tr>\n",
       "    <tr>\n",
       "      <th>1133</th>\n",
       "      <td>1134</td>\n",
       "      <td>Get on the Bus (1996)</td>\n",
       "    </tr>\n",
       "    <tr>\n",
       "      <th>220</th>\n",
       "      <td>221</td>\n",
       "      <td>Breaking the Waves (1996)</td>\n",
       "    </tr>\n",
       "  </tbody>\n",
       "</table>\n",
       "</div>"
      ],
      "text/plain": [
       "      movie_id                         title\n",
       "763        764           If Lucy Fell (1996)\n",
       "398        399  Three Musketeers, The (1993)\n",
       "1662      1663       Nothing Personal (1995)\n",
       "1133      1134         Get on the Bus (1996)\n",
       "220        221     Breaking the Waves (1996)"
      ]
     },
     "execution_count": 69,
     "metadata": {},
     "output_type": "execute_result"
    }
   ],
   "source": [
    "df1.sample(5)\n"
   ]
  },
  {
   "cell_type": "code",
   "execution_count": 70,
   "id": "362df4e3-8e5d-470a-89af-f10006a78d54",
   "metadata": {},
   "outputs": [
    {
     "name": "stdout",
     "output_type": "stream",
     "text": [
      "<class 'pandas.core.frame.DataFrame'>\n",
      "RangeIndex: 100003 entries, 0 to 100002\n",
      "Data columns (total 4 columns):\n",
      " #   Column    Non-Null Count   Dtype\n",
      "---  ------    --------------   -----\n",
      " 0   user_id   100003 non-null  int64\n",
      " 1   movie_id  100003 non-null  int64\n",
      " 2   rating    100003 non-null  int64\n",
      " 3   ts        100003 non-null  int64\n",
      "dtypes: int64(4)\n",
      "memory usage: 3.1 MB\n"
     ]
    }
   ],
   "source": [
    "df.info()"
   ]
  },
  {
   "cell_type": "code",
   "execution_count": 44,
   "id": "78eacb4e-517a-4057-8261-95e5ddfc2748",
   "metadata": {},
   "outputs": [
    {
     "data": {
      "text/html": [
       "<div>\n",
       "<style scoped>\n",
       "    .dataframe tbody tr th:only-of-type {\n",
       "        vertical-align: middle;\n",
       "    }\n",
       "\n",
       "    .dataframe tbody tr th {\n",
       "        vertical-align: top;\n",
       "    }\n",
       "\n",
       "    .dataframe thead th {\n",
       "        text-align: right;\n",
       "    }\n",
       "</style>\n",
       "<table border=\"1\" class=\"dataframe\">\n",
       "  <thead>\n",
       "    <tr style=\"text-align: right;\">\n",
       "      <th></th>\n",
       "      <th>user_id</th>\n",
       "      <th>movie_id</th>\n",
       "      <th>rating</th>\n",
       "      <th>ts</th>\n",
       "    </tr>\n",
       "  </thead>\n",
       "  <tbody>\n",
       "    <tr>\n",
       "      <th>count</th>\n",
       "      <td>100003.000000</td>\n",
       "      <td>100003.000000</td>\n",
       "      <td>100003.000000</td>\n",
       "      <td>1.000030e+05</td>\n",
       "    </tr>\n",
       "    <tr>\n",
       "      <th>mean</th>\n",
       "      <td>462.470876</td>\n",
       "      <td>425.520914</td>\n",
       "      <td>3.529864</td>\n",
       "      <td>8.835288e+08</td>\n",
       "    </tr>\n",
       "    <tr>\n",
       "      <th>std</th>\n",
       "      <td>266.622454</td>\n",
       "      <td>330.797791</td>\n",
       "      <td>1.125704</td>\n",
       "      <td>5.343791e+06</td>\n",
       "    </tr>\n",
       "    <tr>\n",
       "      <th>min</th>\n",
       "      <td>0.000000</td>\n",
       "      <td>1.000000</td>\n",
       "      <td>1.000000</td>\n",
       "      <td>8.747247e+08</td>\n",
       "    </tr>\n",
       "    <tr>\n",
       "      <th>25%</th>\n",
       "      <td>254.000000</td>\n",
       "      <td>175.000000</td>\n",
       "      <td>3.000000</td>\n",
       "      <td>8.794487e+08</td>\n",
       "    </tr>\n",
       "    <tr>\n",
       "      <th>50%</th>\n",
       "      <td>447.000000</td>\n",
       "      <td>322.000000</td>\n",
       "      <td>4.000000</td>\n",
       "      <td>8.828269e+08</td>\n",
       "    </tr>\n",
       "    <tr>\n",
       "      <th>75%</th>\n",
       "      <td>682.000000</td>\n",
       "      <td>631.000000</td>\n",
       "      <td>4.000000</td>\n",
       "      <td>8.882600e+08</td>\n",
       "    </tr>\n",
       "    <tr>\n",
       "      <th>max</th>\n",
       "      <td>943.000000</td>\n",
       "      <td>1682.000000</td>\n",
       "      <td>5.000000</td>\n",
       "      <td>8.932866e+08</td>\n",
       "    </tr>\n",
       "  </tbody>\n",
       "</table>\n",
       "</div>"
      ],
      "text/plain": [
       "             user_id       movie_id         rating            ts\n",
       "count  100003.000000  100003.000000  100003.000000  1.000030e+05\n",
       "mean      462.470876     425.520914       3.529864  8.835288e+08\n",
       "std       266.622454     330.797791       1.125704  5.343791e+06\n",
       "min         0.000000       1.000000       1.000000  8.747247e+08\n",
       "25%       254.000000     175.000000       3.000000  8.794487e+08\n",
       "50%       447.000000     322.000000       4.000000  8.828269e+08\n",
       "75%       682.000000     631.000000       4.000000  8.882600e+08\n",
       "max       943.000000    1682.000000       5.000000  8.932866e+08"
      ]
     },
     "execution_count": 44,
     "metadata": {},
     "output_type": "execute_result"
    }
   ],
   "source": [
    "df.describe(include='all')"
   ]
  },
  {
   "cell_type": "markdown",
   "id": "8a956ac5-daa1-46f3-9983-df05512ab070",
   "metadata": {},
   "source": [
    "try to find the diff. data \n",
    "1 strings with categoical info\n",
    "2 strings with random stuff\n",
    "3 numbers with quantified info\n",
    "4 number with categorial info\n",
    "5 random no. or id start of data "
   ]
  },
  {
   "cell_type": "code",
   "execution_count": 45,
   "id": "13e5d9b3-fad3-410a-ac24-847e91e92f9f",
   "metadata": {},
   "outputs": [
    {
     "data": {
      "text/plain": [
       "Index(['user_id', 'movie_id', 'rating', 'ts'], dtype='object')"
      ]
     },
     "execution_count": 45,
     "metadata": {},
     "output_type": "execute_result"
    }
   ],
   "source": [
    "df.columns"
   ]
  },
  {
   "cell_type": "code",
   "execution_count": 46,
   "id": "1f057be6-6ab2-40de-a3f4-e0280810fd2e",
   "metadata": {},
   "outputs": [
    {
     "data": {
      "text/plain": [
       "array([5, 1, 3, 2, 4], dtype=int64)"
      ]
     },
     "execution_count": 46,
     "metadata": {},
     "output_type": "execute_result"
    }
   ],
   "source": [
    "df['rating'].unique()\n"
   ]
  },
  {
   "cell_type": "code",
   "execution_count": 47,
   "id": "8d86be33-14dc-4080-a8d4-d261a11d95b3",
   "metadata": {},
   "outputs": [
    {
     "data": {
      "text/plain": [
       "5"
      ]
     },
     "execution_count": 47,
     "metadata": {},
     "output_type": "execute_result"
    }
   ],
   "source": [
    "df['rating'].nunique()"
   ]
  },
  {
   "cell_type": "code",
   "execution_count": 48,
   "id": "25d88aee-635e-4c16-8aa4-5bde0a9922b6",
   "metadata": {},
   "outputs": [
    {
     "data": {
      "text/plain": [
       "array([  0, 196, 186,  22, 244, 166, 298, 115, 253, 305,   6,  62, 286,\n",
       "       200, 210, 224, 303, 122, 194, 291, 234, 119, 167, 299, 308,  95,\n",
       "        38, 102,  63, 160,  50, 301, 225, 290,  97, 157, 181, 278, 276,\n",
       "         7,  10, 284, 201, 287, 246, 242, 249,  99, 178, 251,  81, 260,\n",
       "        25,  59,  72,  87,  42, 292,  20,  13, 138,  60,  57, 223, 189,\n",
       "       243,  92, 241, 254, 293, 127, 222, 267,  11,   8, 162, 279, 145,\n",
       "        28, 135,  32,  90, 216, 250, 271, 265, 198, 168, 110,  58, 237,\n",
       "        94, 128,  44, 264,  41,  82, 262, 174,  43,  84, 269, 259,  85,\n",
       "       213, 121,  49, 155,  68, 172,  19, 268,   5,  80,  66,  18,  26,\n",
       "       130, 256,   1,  56,  15, 207, 232,  52, 161, 148, 125,  83, 272,\n",
       "       151,  54,  16,  91, 294, 229,  36,  70,  14, 295, 233, 214, 192,\n",
       "       100, 307, 297, 193, 113, 275, 219, 218, 123, 158, 302,  23, 296,\n",
       "        33, 154,  77, 270, 187, 170, 101, 184, 112, 133, 215,  69, 104,\n",
       "       240, 144, 191,  61, 142, 177, 203,  21, 197, 134, 180, 236, 263,\n",
       "       109,  64, 114, 239, 117,  65, 137, 257, 111, 285,  96, 116,  73,\n",
       "       221, 235, 164, 281, 182, 129,  45, 131, 230, 126, 231, 280, 288,\n",
       "       152, 217,  79,  75, 245, 282,  78, 118, 283, 171, 107, 226, 306,\n",
       "       173, 185, 150, 274, 188,  48, 311, 165, 208,   2, 205, 248,  93,\n",
       "       159, 146,  29, 156,  37, 141, 195, 108,  47, 255,  89, 140, 190,\n",
       "        24,  17, 313,  53, 124, 149, 176, 106, 312, 175, 153, 220, 143,\n",
       "       199, 202, 277, 206,  76, 314, 136, 179,   4, 304,   3, 227, 252,\n",
       "       212, 310,  35, 147, 105,  34,  71,  51, 204, 315,  31, 316, 103,\n",
       "       318,  30, 120,  46, 289, 209, 261,  88,   9, 247, 321, 266,  74,\n",
       "       238, 319, 323,  67, 211,  98,  12,  40, 258, 228, 325, 320, 326,\n",
       "       327, 183, 328, 322, 330,  27, 331, 332, 329,  86, 139, 300, 163,\n",
       "       333, 334,  39, 324, 132, 336, 335, 169, 338, 339, 309, 342, 340,\n",
       "       317, 341, 343, 344, 345, 346, 347, 273,  55, 349, 348, 354, 351,\n",
       "       358, 352, 360, 363, 355, 362, 357, 356, 361, 365, 350, 367, 368,\n",
       "       371, 373, 370, 374, 372, 337, 378, 366, 377, 375, 359, 379, 380,\n",
       "       381, 385, 382, 387, 364, 369, 388, 386, 389, 383, 390, 393, 392,\n",
       "       376, 394, 391, 398, 397, 399, 396, 401, 402, 384, 395, 353, 403,\n",
       "       405, 400, 406, 407, 409, 404, 413, 416, 408, 410, 411, 417, 412,\n",
       "       420, 422, 425, 419, 415, 423, 429, 428, 427, 418, 424, 432, 421,\n",
       "       435, 433, 426, 436, 430, 434, 437, 438, 431, 442, 440, 445, 447,\n",
       "       449, 450, 446, 439, 451, 452, 454, 453, 414, 455, 444, 448, 457,\n",
       "       456, 458, 462, 459, 460, 461, 467, 468, 466, 472, 465, 463, 471,\n",
       "       474, 469, 464, 476, 478, 473, 470, 480, 441, 479, 484, 486, 487,\n",
       "       482, 481, 492, 493, 490, 489, 483, 496, 494, 495, 477, 497, 488,\n",
       "       498, 499, 491, 500, 502, 503, 504, 505, 506, 443, 507, 514, 508,\n",
       "       511, 515, 512, 513, 475, 523, 518, 509, 516, 510, 524, 501, 525,\n",
       "       521, 520, 519, 528, 532, 530, 531, 529, 517, 527, 485, 533, 535,\n",
       "       536, 526, 537, 534, 541, 538, 542, 545, 539, 547, 543, 548, 546,\n",
       "       522, 551, 544, 553, 552, 540, 554, 550, 556, 559, 560, 561, 563,\n",
       "       566, 557, 558, 564, 565, 573, 549, 567, 569, 562, 576, 577, 579,\n",
       "       574, 555, 572, 575, 584, 588, 587, 568, 586, 585, 582, 591, 581,\n",
       "       592, 580, 590, 593, 583, 596, 570, 599, 589, 594, 597, 578, 601,\n",
       "       602, 600, 605, 603, 595, 606, 608, 607, 610, 611, 617, 618, 614,\n",
       "       609, 615, 616, 620, 571, 619, 613, 622, 621, 604, 624, 612, 627,\n",
       "       623, 628, 625, 629, 633, 632, 631, 634, 639, 630, 642, 637, 640,\n",
       "       626, 643, 598, 638, 635, 644, 636, 645, 648, 647, 650, 651, 654,\n",
       "       653, 655, 649, 658, 656, 660, 659, 646, 663, 664, 657, 665, 666,\n",
       "       661, 662, 667, 641, 668, 673, 671, 669, 676, 674, 652, 677, 682,\n",
       "       679, 684, 685, 683, 691, 672, 692, 690, 689, 686, 693, 688, 697,\n",
       "       698, 670, 694, 680, 705, 701, 699, 704, 707, 700, 687, 695, 675,\n",
       "       708, 709, 711, 710, 712, 715, 713, 716, 681, 678, 719, 702, 721,\n",
       "       714, 717, 718, 696, 722, 724, 727, 725, 706, 720, 729, 726, 728,\n",
       "       703, 738, 736, 734, 730, 743, 742, 737, 733, 745, 740, 735, 747,\n",
       "       723, 739, 749, 748, 746, 731, 750, 741, 751, 756, 757, 752, 758,\n",
       "       732, 762, 744, 754, 753, 763, 764, 767, 769, 755, 771, 768, 773,\n",
       "       765, 772, 766, 774, 760, 761, 777, 759, 776, 780, 779, 778, 782,\n",
       "       786, 784, 770, 788, 789, 790, 787, 783, 785, 794, 781, 796, 795,\n",
       "       793, 798, 791, 802, 800, 804, 803, 775, 792, 799, 805, 806, 807,\n",
       "       797, 801, 809, 815, 817, 821, 818, 814, 812, 823, 825, 827, 829,\n",
       "       811, 830, 826, 831, 819, 828, 808, 835, 833, 836, 816, 838, 839,\n",
       "       840, 832, 810, 844, 843, 834, 846, 837, 813, 842, 847, 848, 822,\n",
       "       852, 851, 849, 854, 850, 858, 853, 855, 824, 845, 841, 859, 862,\n",
       "       856, 820, 863, 860, 857, 864, 865, 868, 867, 861, 870, 871, 875,\n",
       "       876, 872, 866, 877, 873, 880, 878, 869, 881, 879, 883, 882, 884,\n",
       "       886, 885, 889, 874, 892, 890, 893, 887, 891, 894, 896, 897, 901,\n",
       "       899, 903, 904, 907, 905, 902, 898, 895, 906, 900, 908, 916, 911,\n",
       "       912, 914, 918, 919, 921, 910, 913, 915, 922, 923, 928, 927, 924,\n",
       "       929, 931, 917, 932, 909, 934, 933, 935, 938, 940, 888, 925, 942,\n",
       "       937, 926, 943, 939, 936, 930, 920, 941], dtype=int64)"
      ]
     },
     "execution_count": 48,
     "metadata": {},
     "output_type": "execute_result"
    }
   ],
   "source": [
    "df['user_id'].unique()"
   ]
  },
  {
   "cell_type": "code",
   "execution_count": 49,
   "id": "c36e2c8a-d403-47c6-937d-a25a4ed3a009",
   "metadata": {},
   "outputs": [
    {
     "data": {
      "text/plain": [
       "944"
      ]
     },
     "execution_count": 49,
     "metadata": {},
     "output_type": "execute_result"
    }
   ],
   "source": [
    "df['user_id'].nunique()"
   ]
  },
  {
   "cell_type": "markdown",
   "id": "b988ae90-8dc0-4563-99e9-dda3d68d4122",
   "metadata": {},
   "source": [
    "\n",
    "# merging the data fames"
   ]
  },
  {
   "cell_type": "code",
   "execution_count": 73,
   "id": "474194c5-73b8-480b-949e-1bb2a574ad0e",
   "metadata": {},
   "outputs": [
    {
     "data": {
      "text/html": [
       "<div>\n",
       "<style scoped>\n",
       "    .dataframe tbody tr th:only-of-type {\n",
       "        vertical-align: middle;\n",
       "    }\n",
       "\n",
       "    .dataframe tbody tr th {\n",
       "        vertical-align: top;\n",
       "    }\n",
       "\n",
       "    .dataframe thead th {\n",
       "        text-align: right;\n",
       "    }\n",
       "</style>\n",
       "<table border=\"1\" class=\"dataframe\">\n",
       "  <thead>\n",
       "    <tr style=\"text-align: right;\">\n",
       "      <th></th>\n",
       "      <th>user_id</th>\n",
       "      <th>movie_id</th>\n",
       "      <th>rating</th>\n",
       "      <th>ts</th>\n",
       "      <th>title</th>\n",
       "    </tr>\n",
       "  </thead>\n",
       "  <tbody>\n",
       "    <tr>\n",
       "      <th>0</th>\n",
       "      <td>0</td>\n",
       "      <td>50</td>\n",
       "      <td>5</td>\n",
       "      <td>881250949</td>\n",
       "      <td>Star Wars (1977)</td>\n",
       "    </tr>\n",
       "    <tr>\n",
       "      <th>1</th>\n",
       "      <td>290</td>\n",
       "      <td>50</td>\n",
       "      <td>5</td>\n",
       "      <td>880473582</td>\n",
       "      <td>Star Wars (1977)</td>\n",
       "    </tr>\n",
       "    <tr>\n",
       "      <th>2</th>\n",
       "      <td>79</td>\n",
       "      <td>50</td>\n",
       "      <td>4</td>\n",
       "      <td>891271545</td>\n",
       "      <td>Star Wars (1977)</td>\n",
       "    </tr>\n",
       "    <tr>\n",
       "      <th>3</th>\n",
       "      <td>2</td>\n",
       "      <td>50</td>\n",
       "      <td>5</td>\n",
       "      <td>888552084</td>\n",
       "      <td>Star Wars (1977)</td>\n",
       "    </tr>\n",
       "    <tr>\n",
       "      <th>4</th>\n",
       "      <td>8</td>\n",
       "      <td>50</td>\n",
       "      <td>5</td>\n",
       "      <td>879362124</td>\n",
       "      <td>Star Wars (1977)</td>\n",
       "    </tr>\n",
       "  </tbody>\n",
       "</table>\n",
       "</div>"
      ],
      "text/plain": [
       "   user_id  movie_id  rating         ts             title\n",
       "0        0        50       5  881250949  Star Wars (1977)\n",
       "1      290        50       5  880473582  Star Wars (1977)\n",
       "2       79        50       4  891271545  Star Wars (1977)\n",
       "3        2        50       5  888552084  Star Wars (1977)\n",
       "4        8        50       5  879362124  Star Wars (1977)"
      ]
     },
     "execution_count": 73,
     "metadata": {},
     "output_type": "execute_result"
    }
   ],
   "source": [
    "movie = pd.merge(df,df1, on ='movie_id')\n",
    "movie.head()"
   ]
  },
  {
   "cell_type": "code",
   "execution_count": 75,
   "id": "b2784acf-b9c9-483e-b395-d132cac57674",
   "metadata": {},
   "outputs": [],
   "source": [
    "# remove the redundant or useless column i.e ts\n",
    "movie.drop('ts', axis=1, inplace=True)\n"
   ]
  },
  {
   "cell_type": "code",
   "execution_count": 76,
   "id": "f8a7881d-37df-4753-828b-1daddea8a2f2",
   "metadata": {},
   "outputs": [
    {
     "data": {
      "text/html": [
       "<div>\n",
       "<style scoped>\n",
       "    .dataframe tbody tr th:only-of-type {\n",
       "        vertical-align: middle;\n",
       "    }\n",
       "\n",
       "    .dataframe tbody tr th {\n",
       "        vertical-align: top;\n",
       "    }\n",
       "\n",
       "    .dataframe thead th {\n",
       "        text-align: right;\n",
       "    }\n",
       "</style>\n",
       "<table border=\"1\" class=\"dataframe\">\n",
       "  <thead>\n",
       "    <tr style=\"text-align: right;\">\n",
       "      <th></th>\n",
       "      <th>user_id</th>\n",
       "      <th>movie_id</th>\n",
       "      <th>rating</th>\n",
       "      <th>title</th>\n",
       "    </tr>\n",
       "  </thead>\n",
       "  <tbody>\n",
       "    <tr>\n",
       "      <th>0</th>\n",
       "      <td>0</td>\n",
       "      <td>50</td>\n",
       "      <td>5</td>\n",
       "      <td>Star Wars (1977)</td>\n",
       "    </tr>\n",
       "    <tr>\n",
       "      <th>1</th>\n",
       "      <td>290</td>\n",
       "      <td>50</td>\n",
       "      <td>5</td>\n",
       "      <td>Star Wars (1977)</td>\n",
       "    </tr>\n",
       "    <tr>\n",
       "      <th>2</th>\n",
       "      <td>79</td>\n",
       "      <td>50</td>\n",
       "      <td>4</td>\n",
       "      <td>Star Wars (1977)</td>\n",
       "    </tr>\n",
       "    <tr>\n",
       "      <th>3</th>\n",
       "      <td>2</td>\n",
       "      <td>50</td>\n",
       "      <td>5</td>\n",
       "      <td>Star Wars (1977)</td>\n",
       "    </tr>\n",
       "    <tr>\n",
       "      <th>4</th>\n",
       "      <td>8</td>\n",
       "      <td>50</td>\n",
       "      <td>5</td>\n",
       "      <td>Star Wars (1977)</td>\n",
       "    </tr>\n",
       "  </tbody>\n",
       "</table>\n",
       "</div>"
      ],
      "text/plain": [
       "   user_id  movie_id  rating             title\n",
       "0        0        50       5  Star Wars (1977)\n",
       "1      290        50       5  Star Wars (1977)\n",
       "2       79        50       4  Star Wars (1977)\n",
       "3        2        50       5  Star Wars (1977)\n",
       "4        8        50       5  Star Wars (1977)"
      ]
     },
     "execution_count": 76,
     "metadata": {},
     "output_type": "execute_result"
    }
   ],
   "source": [
    "movie.head()"
   ]
  },
  {
   "cell_type": "code",
   "execution_count": 77,
   "id": "65e1bdbe-1fa6-4644-853a-676bf2545219",
   "metadata": {},
   "outputs": [
    {
     "data": {
      "text/plain": [
       "Index(['user_id', 'movie_id', 'rating', 'title'], dtype='object')"
      ]
     },
     "execution_count": 77,
     "metadata": {},
     "output_type": "execute_result"
    }
   ],
   "source": [
    "movie.columns"
   ]
  },
  {
   "cell_type": "code",
   "execution_count": 82,
   "id": "51eb2104-894d-4804-a050-c7114ab7b161",
   "metadata": {},
   "outputs": [
    {
     "data": {
      "text/plain": [
       "Star Wars (1977)                 584\n",
       "Contact (1997)                   509\n",
       "Fargo (1996)                     508\n",
       "Return of the Jedi (1983)        507\n",
       "Liar Liar (1997)                 485\n",
       "English Patient, The (1996)      481\n",
       "Scream (1996)                    478\n",
       "Toy Story (1995)                 452\n",
       "Air Force One (1997)             431\n",
       "Independence Day (ID4) (1996)    429\n",
       "Name: title, dtype: int64"
      ]
     },
     "execution_count": 82,
     "metadata": {},
     "output_type": "execute_result"
    }
   ],
   "source": [
    "# find the no. of ratings for each movie\n",
    "movie['title'].value_counts().head(10)"
   ]
  },
  {
   "cell_type": "code",
   "execution_count": 83,
   "id": "267556bb-77ba-4a28-b097-cbe17895fadb",
   "metadata": {},
   "outputs": [
    {
     "data": {
      "text/plain": [
       "title\n",
       "They Made Me a Criminal (1939)                       5.0\n",
       "Marlene Dietrich: Shadow and Light (1996)            5.0\n",
       "Saint of Fort Washington, The (1993)                 5.0\n",
       "Someone Else's America (1995)                        5.0\n",
       "Star Kid (1997)                                      5.0\n",
       "Great Day in Harlem, A (1994)                        5.0\n",
       "Aiqing wansui (1994)                                 5.0\n",
       "Santa with Muscles (1996)                            5.0\n",
       "Prefontaine (1997)                                   5.0\n",
       "Entertaining Angels: The Dorothy Day Story (1996)    5.0\n",
       "Name: rating, dtype: float64"
      ]
     },
     "execution_count": 83,
     "metadata": {},
     "output_type": "execute_result"
    }
   ],
   "source": [
    "# find the average rating for each movie\n",
    "movie.groupby('title')['rating'].mean().sort_values(ascending=False).head(10)\n"
   ]
  },
  {
   "cell_type": "code",
   "execution_count": null,
   "id": "84fac142-97f8-4307-bd7d-ccea89bb9ee8",
   "metadata": {},
   "outputs": [],
   "source": []
  }
 ],
 "metadata": {
  "kernelspec": {
   "display_name": "Python 3 (ipykernel)",
   "language": "python",
   "name": "python3"
  },
  "language_info": {
   "codemirror_mode": {
    "name": "ipython",
    "version": 3
   },
   "file_extension": ".py",
   "mimetype": "text/x-python",
   "name": "python",
   "nbconvert_exporter": "python",
   "pygments_lexer": "ipython3",
   "version": "3.9.12"
  }
 },
 "nbformat": 4,
 "nbformat_minor": 5
}
