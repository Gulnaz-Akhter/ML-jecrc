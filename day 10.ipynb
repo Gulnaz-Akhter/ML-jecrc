{
 "cells": [
  {
   "cell_type": "code",
   "execution_count": 1,
   "id": "d7fd211b-d53b-4c85-80d2-820239c5d276",
   "metadata": {},
   "outputs": [],
   "source": [
    "import pandas as pd"
   ]
  },
  {
   "cell_type": "code",
   "execution_count": 5,
   "id": "b0855247-3503-4fd4-b436-6b6cab0832f1",
   "metadata": {},
   "outputs": [],
   "source": [
    "movies = pd.read_clipboard()"
   ]
  },
  {
   "cell_type": "markdown",
   "id": "b7c7c374-64c2-4254-92a8-03fbc0a9ea4a",
   "metadata": {},
   "source": [
    "movies=pd.read_csv(r'my movies.csv')"
   ]
  },
  {
   "cell_type": "code",
   "execution_count": 8,
   "id": "4e847581-8214-484e-a1b5-5c2bdaf080bd",
   "metadata": {},
   "outputs": [],
   "source": [
    "movies=pd.read_csv(r'my movies.csv')"
   ]
  },
  {
   "cell_type": "code",
   "execution_count": 9,
   "id": "bb546afe-730d-47c3-b097-6c75dcf22945",
   "metadata": {},
   "outputs": [
    {
     "data": {
      "text/html": [
       "<div>\n",
       "<style scoped>\n",
       "    .dataframe tbody tr th:only-of-type {\n",
       "        vertical-align: middle;\n",
       "    }\n",
       "\n",
       "    .dataframe tbody tr th {\n",
       "        vertical-align: top;\n",
       "    }\n",
       "\n",
       "    .dataframe thead th {\n",
       "        text-align: right;\n",
       "    }\n",
       "</style>\n",
       "<table border=\"1\" class=\"dataframe\">\n",
       "  <thead>\n",
       "    <tr style=\"text-align: right;\">\n",
       "      <th></th>\n",
       "      <th>id</th>\n",
       "      <th>name</th>\n",
       "      <th>industry</th>\n",
       "      <th>genre</th>\n",
       "      <th>language</th>\n",
       "      <th>duration</th>\n",
       "      <th>rating</th>\n",
       "    </tr>\n",
       "  </thead>\n",
       "  <tbody>\n",
       "    <tr>\n",
       "      <th>0</th>\n",
       "      <td>1</td>\n",
       "      <td>bahubali</td>\n",
       "      <td>tollywood</td>\n",
       "      <td>action</td>\n",
       "      <td>telegue</td>\n",
       "      <td>170</td>\n",
       "      <td>9.5</td>\n",
       "    </tr>\n",
       "    <tr>\n",
       "      <th>1</th>\n",
       "      <td>2</td>\n",
       "      <td>brahmastra</td>\n",
       "      <td>bollwood</td>\n",
       "      <td>mysterous</td>\n",
       "      <td>hindi</td>\n",
       "      <td>180</td>\n",
       "      <td>5.0</td>\n",
       "    </tr>\n",
       "    <tr>\n",
       "      <th>2</th>\n",
       "      <td>3</td>\n",
       "      <td>uri---the surgical strike</td>\n",
       "      <td>bollywood</td>\n",
       "      <td>action</td>\n",
       "      <td>hindi</td>\n",
       "      <td>120</td>\n",
       "      <td>10.0</td>\n",
       "    </tr>\n",
       "    <tr>\n",
       "      <th>3</th>\n",
       "      <td>4</td>\n",
       "      <td>DDLJ</td>\n",
       "      <td>bollywood</td>\n",
       "      <td>romantic</td>\n",
       "      <td>hindi</td>\n",
       "      <td>150</td>\n",
       "      <td>10.0</td>\n",
       "    </tr>\n",
       "    <tr>\n",
       "      <th>4</th>\n",
       "      <td>5</td>\n",
       "      <td>avengers-end</td>\n",
       "      <td>hollywood</td>\n",
       "      <td>action</td>\n",
       "      <td>english</td>\n",
       "      <td>180</td>\n",
       "      <td>9.0</td>\n",
       "    </tr>\n",
       "    <tr>\n",
       "      <th>5</th>\n",
       "      <td>6</td>\n",
       "      <td>tenet</td>\n",
       "      <td>hollywood</td>\n",
       "      <td>scifi</td>\n",
       "      <td>english</td>\n",
       "      <td>150</td>\n",
       "      <td>8.5</td>\n",
       "    </tr>\n",
       "    <tr>\n",
       "      <th>6</th>\n",
       "      <td>7</td>\n",
       "      <td>major</td>\n",
       "      <td>bollywood</td>\n",
       "      <td>action</td>\n",
       "      <td>hindi</td>\n",
       "      <td>140</td>\n",
       "      <td>8.0</td>\n",
       "    </tr>\n",
       "    <tr>\n",
       "      <th>7</th>\n",
       "      <td>8</td>\n",
       "      <td>intersteller</td>\n",
       "      <td>hollywood scifi</td>\n",
       "      <td>NaN</td>\n",
       "      <td>english</td>\n",
       "      <td>190</td>\n",
       "      <td>7.0</td>\n",
       "    </tr>\n",
       "    <tr>\n",
       "      <th>8</th>\n",
       "      <td>9</td>\n",
       "      <td>gravity</td>\n",
       "      <td>hollywood</td>\n",
       "      <td>scifi</td>\n",
       "      <td>english</td>\n",
       "      <td>130</td>\n",
       "      <td>6.0</td>\n",
       "    </tr>\n",
       "    <tr>\n",
       "      <th>9</th>\n",
       "      <td>10</td>\n",
       "      <td>titanic</td>\n",
       "      <td>hollywood</td>\n",
       "      <td>drama</td>\n",
       "      <td>englih</td>\n",
       "      <td>180</td>\n",
       "      <td>9.0</td>\n",
       "    </tr>\n",
       "    <tr>\n",
       "      <th>10</th>\n",
       "      <td>11</td>\n",
       "      <td>yeh jawani hai dewani</td>\n",
       "      <td>bollywood romantic</td>\n",
       "      <td>NaN</td>\n",
       "      <td>hindi</td>\n",
       "      <td>150</td>\n",
       "      <td>5.0</td>\n",
       "    </tr>\n",
       "    <tr>\n",
       "      <th>11</th>\n",
       "      <td>12</td>\n",
       "      <td>houseful</td>\n",
       "      <td>bollywood</td>\n",
       "      <td>comedy</td>\n",
       "      <td>hindi</td>\n",
       "      <td>150</td>\n",
       "      <td>6.0</td>\n",
       "    </tr>\n",
       "    <tr>\n",
       "      <th>12</th>\n",
       "      <td>13</td>\n",
       "      <td>the dictator</td>\n",
       "      <td>hollywood scifi</td>\n",
       "      <td>comedy</td>\n",
       "      <td>english</td>\n",
       "      <td>120</td>\n",
       "      <td>7.0</td>\n",
       "    </tr>\n",
       "    <tr>\n",
       "      <th>13</th>\n",
       "      <td>14</td>\n",
       "      <td>herafery</td>\n",
       "      <td>bollywood</td>\n",
       "      <td>comedy</td>\n",
       "      <td>hindi</td>\n",
       "      <td>140</td>\n",
       "      <td>9.0</td>\n",
       "    </tr>\n",
       "    <tr>\n",
       "      <th>14</th>\n",
       "      <td>15</td>\n",
       "      <td>sholey</td>\n",
       "      <td>bollwywood</td>\n",
       "      <td>drama</td>\n",
       "      <td>hindi</td>\n",
       "      <td>150</td>\n",
       "      <td>8.5</td>\n",
       "    </tr>\n",
       "  </tbody>\n",
       "</table>\n",
       "</div>"
      ],
      "text/plain": [
       "    id                       name            industry      genre language  \\\n",
       "0    1                   bahubali           tollywood     action  telegue   \n",
       "1    2                 brahmastra            bollwood  mysterous    hindi   \n",
       "2    3  uri---the surgical strike           bollywood     action    hindi   \n",
       "3    4                       DDLJ           bollywood   romantic    hindi   \n",
       "4    5               avengers-end           hollywood     action  english   \n",
       "5    6                      tenet           hollywood      scifi  english   \n",
       "6    7                      major           bollywood     action   hindi    \n",
       "7    8               intersteller     hollywood scifi        NaN  english   \n",
       "8    9                    gravity           hollywood      scifi  english   \n",
       "9   10                    titanic           hollywood      drama   englih   \n",
       "10  11      yeh jawani hai dewani  bollywood romantic        NaN    hindi   \n",
       "11  12                   houseful           bollywood     comedy    hindi   \n",
       "12  13               the dictator     hollywood scifi     comedy  english   \n",
       "13  14                   herafery           bollywood     comedy    hindi   \n",
       "14  15                     sholey         bollwywood       drama    hindi   \n",
       "\n",
       "    duration  rating  \n",
       "0        170     9.5  \n",
       "1        180     5.0  \n",
       "2        120    10.0  \n",
       "3        150    10.0  \n",
       "4        180     9.0  \n",
       "5        150     8.5  \n",
       "6        140     8.0  \n",
       "7        190     7.0  \n",
       "8        130     6.0  \n",
       "9        180     9.0  \n",
       "10       150     5.0  \n",
       "11       150     6.0  \n",
       "12       120     7.0  \n",
       "13       140     9.0  \n",
       "14       150     8.5  "
      ]
     },
     "execution_count": 9,
     "metadata": {},
     "output_type": "execute_result"
    }
   ],
   "source": [
    "movies"
   ]
  },
  {
   "cell_type": "code",
   "execution_count": 10,
   "id": "79ce61b5-5f3b-4013-a155-5a97e06bb397",
   "metadata": {},
   "outputs": [
    {
     "data": {
      "text/plain": [
       "'intersteller'"
      ]
     },
     "execution_count": 10,
     "metadata": {},
     "output_type": "execute_result"
    }
   ],
   "source": [
    "movies['name'][movies['duration'].argmax()]"
   ]
  },
  {
   "cell_type": "code",
   "execution_count": 11,
   "id": "ced4220c-a5d0-4925-9bd8-faae88a00841",
   "metadata": {},
   "outputs": [
    {
     "data": {
      "text/plain": [
       "0     170\n",
       "1     180\n",
       "2     120\n",
       "3     150\n",
       "4     180\n",
       "5     150\n",
       "6     140\n",
       "7     190\n",
       "8     130\n",
       "9     180\n",
       "10    150\n",
       "11    150\n",
       "12    120\n",
       "13    140\n",
       "14    150\n",
       "Name: duration, dtype: int64"
      ]
     },
     "execution_count": 11,
     "metadata": {},
     "output_type": "execute_result"
    }
   ],
   "source": [
    "movies['duration']"
   ]
  },
  {
   "cell_type": "code",
   "execution_count": 14,
   "id": "9c7ef91f-fae3-4394-804d-ff076b1bb044",
   "metadata": {},
   "outputs": [
    {
     "data": {
      "text/plain": [
       "0                      bahubali\n",
       "1                    brahmastra\n",
       "2     uri---the surgical strike\n",
       "3                          DDLJ\n",
       "4                  avengers-end\n",
       "5                         tenet\n",
       "6                         major\n",
       "7                  intersteller\n",
       "8                       gravity\n",
       "9                       titanic\n",
       "10        yeh jawani hai dewani\n",
       "11                     houseful\n",
       "12                 the dictator\n",
       "13                     herafery\n",
       "14                       sholey\n",
       "Name: name, dtype: object"
      ]
     },
     "execution_count": 14,
     "metadata": {},
     "output_type": "execute_result"
    }
   ],
   "source": [
    "movies['name']"
   ]
  },
  {
   "cell_type": "markdown",
   "id": "ab6e01f5-4894-4e87-8e55-f702aae210e9",
   "metadata": {},
   "source": []
  },
  {
   "cell_type": "code",
   "execution_count": null,
   "id": "5f3a6958-1d6e-4a92-884c-e50dfb35749e",
   "metadata": {},
   "outputs": [],
   "source": []
  },
  {
   "cell_type": "code",
   "execution_count": 19,
   "id": "cb310ef5-f43a-4388-988b-a7145e552931",
   "metadata": {},
   "outputs": [
    {
     "data": {
      "text/plain": [
       "2"
      ]
     },
     "execution_count": 19,
     "metadata": {},
     "output_type": "execute_result"
    }
   ],
   "source": [
    "sum(movies['rating']==10)"
   ]
  },
  {
   "cell_type": "code",
   "execution_count": 22,
   "id": "f4458c2b-a1b0-4f50-beb8-eb41f362c292",
   "metadata": {},
   "outputs": [
    {
     "data": {
      "text/plain": [
       "bollywood             5\n",
       "hollywood             4\n",
       "hollywood scifi       2\n",
       "tollywood             1\n",
       "bollwood              1\n",
       "bollywood romantic    1\n",
       "bollwywood            1\n",
       "Name: industry, dtype: int64"
      ]
     },
     "execution_count": 22,
     "metadata": {},
     "output_type": "execute_result"
    }
   ],
   "source": [
    "movies ['industry'].value_counts()"
   ]
  },
  {
   "cell_type": "code",
   "execution_count": 21,
   "id": "ddced12e-74f3-40d5-870b-6b9d2ec921ea",
   "metadata": {},
   "outputs": [
    {
     "data": {
      "text/plain": [
       "7"
      ]
     },
     "execution_count": 21,
     "metadata": {},
     "output_type": "execute_result"
    }
   ],
   "source": [
    "movies['industry'].nunique()"
   ]
  },
  {
   "cell_type": "code",
   "execution_count": 26,
   "id": "6f9054a8-e4c3-4399-b204-a56380e3f8f9",
   "metadata": {},
   "outputs": [
    {
     "data": {
      "text/plain": [
       "'houseful'"
      ]
     },
     "execution_count": 26,
     "metadata": {},
     "output_type": "execute_result"
    }
   ],
   "source": [
    " movies['name'] [movies[movies['genre']=='comedy'] ['rating'].idxmin()] "
   ]
  },
  {
   "cell_type": "code",
   "execution_count": 31,
   "id": "2f7968f8-d502-46fd-b0e3-f0c6e3235471",
   "metadata": {},
   "outputs": [
    {
     "data": {
      "text/plain": [
       "'intersteller'"
      ]
     },
     "execution_count": 31,
     "metadata": {},
     "output_type": "execute_result"
    }
   ],
   "source": [
    "movies ['name'] [movies[movies['language'] =='english'] ['duration'].idxmax()] "
   ]
  },
  {
   "cell_type": "code",
   "execution_count": null,
   "id": "b1ef005f-2289-487a-a67b-0ffc686e4b06",
   "metadata": {},
   "outputs": [],
   "source": []
  }
 ],
 "metadata": {
  "kernelspec": {
   "display_name": "Python 3 (ipykernel)",
   "language": "python",
   "name": "python3"
  },
  "language_info": {
   "codemirror_mode": {
    "name": "ipython",
    "version": 3
   },
   "file_extension": ".py",
   "mimetype": "text/x-python",
   "name": "python",
   "nbconvert_exporter": "python",
   "pygments_lexer": "ipython3",
   "version": "3.9.12"
  }
 },
 "nbformat": 4,
 "nbformat_minor": 5
}
